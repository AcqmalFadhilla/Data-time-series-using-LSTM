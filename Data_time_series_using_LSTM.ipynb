{
  "cells": [
    {
      "cell_type": "markdown",
      "metadata": {
        "id": "view-in-github",
        "colab_type": "text"
      },
      "source": [
        "<a href=\"https://colab.research.google.com/github/AcqmalFadhilla/Data-time-series-using-LSTM/blob/main/Data_time_series_using_LSTM.ipynb\" target=\"_parent\"><img src=\"https://colab.research.google.com/assets/colab-badge.svg\" alt=\"Open In Colab\"/></a>"
      ]
    },
    {
      "cell_type": "code",
      "execution_count": null,
      "metadata": {
        "id": "EOFD6_uLil_w"
      },
      "outputs": [],
      "source": [
        "import os\n",
        "import zipfile\n",
        "\n",
        "local_zip = \"/content/Market price onion 2020.zip\"\n",
        "zip_ref = zipfile.ZipFile(local_zip, \"r\")\n",
        "zip_ref.extractall(\"/content\")\n",
        "zip_ref.close()"
      ]
    },
    {
      "cell_type": "code",
      "execution_count": null,
      "metadata": {
        "id": "AVL0tnQBjJwF"
      },
      "outputs": [],
      "source": [
        "import pandas as pd\n",
        "\n",
        "df = pd.read_csv(\"/content/Onion Prices 2020.csv\")"
      ]
    },
    {
      "cell_type": "code",
      "execution_count": null,
      "metadata": {
        "colab": {
          "base_uri": "https://localhost:8080/"
        },
        "id": "NJXsvjPpjf6N",
        "outputId": "329433b5-f5db-47d1-e0f0-bf38735dc7ce"
      },
      "outputs": [
        {
          "output_type": "stream",
          "name": "stdout",
          "text": [
            "<class 'pandas.core.frame.DataFrame'>\n",
            "RangeIndex: 107295 entries, 0 to 107294\n",
            "Data columns (total 9 columns):\n",
            " #   Column        Non-Null Count   Dtype  \n",
            "---  ------        --------------   -----  \n",
            " 0   state         107295 non-null  object \n",
            " 1   district      107295 non-null  object \n",
            " 2   market        107295 non-null  object \n",
            " 3   commodity     107295 non-null  object \n",
            " 4   variety       107295 non-null  object \n",
            " 5   arrival_date  107295 non-null  object \n",
            " 6   min_price     107295 non-null  int64  \n",
            " 7   max_price     107295 non-null  int64  \n",
            " 8   modal_price   107295 non-null  float64\n",
            "dtypes: float64(1), int64(2), object(6)\n",
            "memory usage: 7.4+ MB\n"
          ]
        }
      ],
      "source": [
        "df.info()"
      ]
    },
    {
      "cell_type": "code",
      "execution_count": null,
      "metadata": {
        "colab": {
          "base_uri": "https://localhost:8080/",
          "height": 206
        },
        "id": "V3uTy0XQjj29",
        "outputId": "36fd5c33-1184-4611-b25e-9efb1823a72b"
      },
      "outputs": [
        {
          "output_type": "execute_result",
          "data": {
            "text/plain": [
              "            state district   market commodity variety arrival_date  min_price  \\\n",
              "0  Andhra Pradesh  Kurnool  Kurnool     Onion   Local   03/01/2020       1350   \n",
              "1  Andhra Pradesh  Kurnool  Kurnool     Onion   Local   04/01/2020       1390   \n",
              "2  Andhra Pradesh  Kurnool  Kurnool     Onion   Local   06/01/2020       1460   \n",
              "3  Andhra Pradesh  Kurnool  Kurnool     Onion   Local   07/01/2020       2010   \n",
              "4  Andhra Pradesh  Kurnool  Kurnool     Onion   Local   10/01/2020       1320   \n",
              "\n",
              "   max_price  modal_price  \n",
              "0       4390       3100.0  \n",
              "1       4400       3200.0  \n",
              "2       5150       4310.0  \n",
              "3       5200       4200.0  \n",
              "4       4050       3300.0  "
            ],
            "text/html": [
              "\n",
              "  <div id=\"df-8dc2452b-8f47-4013-81b1-4d9974e4eef2\">\n",
              "    <div class=\"colab-df-container\">\n",
              "      <div>\n",
              "<style scoped>\n",
              "    .dataframe tbody tr th:only-of-type {\n",
              "        vertical-align: middle;\n",
              "    }\n",
              "\n",
              "    .dataframe tbody tr th {\n",
              "        vertical-align: top;\n",
              "    }\n",
              "\n",
              "    .dataframe thead th {\n",
              "        text-align: right;\n",
              "    }\n",
              "</style>\n",
              "<table border=\"1\" class=\"dataframe\">\n",
              "  <thead>\n",
              "    <tr style=\"text-align: right;\">\n",
              "      <th></th>\n",
              "      <th>state</th>\n",
              "      <th>district</th>\n",
              "      <th>market</th>\n",
              "      <th>commodity</th>\n",
              "      <th>variety</th>\n",
              "      <th>arrival_date</th>\n",
              "      <th>min_price</th>\n",
              "      <th>max_price</th>\n",
              "      <th>modal_price</th>\n",
              "    </tr>\n",
              "  </thead>\n",
              "  <tbody>\n",
              "    <tr>\n",
              "      <th>0</th>\n",
              "      <td>Andhra Pradesh</td>\n",
              "      <td>Kurnool</td>\n",
              "      <td>Kurnool</td>\n",
              "      <td>Onion</td>\n",
              "      <td>Local</td>\n",
              "      <td>03/01/2020</td>\n",
              "      <td>1350</td>\n",
              "      <td>4390</td>\n",
              "      <td>3100.0</td>\n",
              "    </tr>\n",
              "    <tr>\n",
              "      <th>1</th>\n",
              "      <td>Andhra Pradesh</td>\n",
              "      <td>Kurnool</td>\n",
              "      <td>Kurnool</td>\n",
              "      <td>Onion</td>\n",
              "      <td>Local</td>\n",
              "      <td>04/01/2020</td>\n",
              "      <td>1390</td>\n",
              "      <td>4400</td>\n",
              "      <td>3200.0</td>\n",
              "    </tr>\n",
              "    <tr>\n",
              "      <th>2</th>\n",
              "      <td>Andhra Pradesh</td>\n",
              "      <td>Kurnool</td>\n",
              "      <td>Kurnool</td>\n",
              "      <td>Onion</td>\n",
              "      <td>Local</td>\n",
              "      <td>06/01/2020</td>\n",
              "      <td>1460</td>\n",
              "      <td>5150</td>\n",
              "      <td>4310.0</td>\n",
              "    </tr>\n",
              "    <tr>\n",
              "      <th>3</th>\n",
              "      <td>Andhra Pradesh</td>\n",
              "      <td>Kurnool</td>\n",
              "      <td>Kurnool</td>\n",
              "      <td>Onion</td>\n",
              "      <td>Local</td>\n",
              "      <td>07/01/2020</td>\n",
              "      <td>2010</td>\n",
              "      <td>5200</td>\n",
              "      <td>4200.0</td>\n",
              "    </tr>\n",
              "    <tr>\n",
              "      <th>4</th>\n",
              "      <td>Andhra Pradesh</td>\n",
              "      <td>Kurnool</td>\n",
              "      <td>Kurnool</td>\n",
              "      <td>Onion</td>\n",
              "      <td>Local</td>\n",
              "      <td>10/01/2020</td>\n",
              "      <td>1320</td>\n",
              "      <td>4050</td>\n",
              "      <td>3300.0</td>\n",
              "    </tr>\n",
              "  </tbody>\n",
              "</table>\n",
              "</div>\n",
              "      <button class=\"colab-df-convert\" onclick=\"convertToInteractive('df-8dc2452b-8f47-4013-81b1-4d9974e4eef2')\"\n",
              "              title=\"Convert this dataframe to an interactive table.\"\n",
              "              style=\"display:none;\">\n",
              "        \n",
              "  <svg xmlns=\"http://www.w3.org/2000/svg\" height=\"24px\"viewBox=\"0 0 24 24\"\n",
              "       width=\"24px\">\n",
              "    <path d=\"M0 0h24v24H0V0z\" fill=\"none\"/>\n",
              "    <path d=\"M18.56 5.44l.94 2.06.94-2.06 2.06-.94-2.06-.94-.94-2.06-.94 2.06-2.06.94zm-11 1L8.5 8.5l.94-2.06 2.06-.94-2.06-.94L8.5 2.5l-.94 2.06-2.06.94zm10 10l.94 2.06.94-2.06 2.06-.94-2.06-.94-.94-2.06-.94 2.06-2.06.94z\"/><path d=\"M17.41 7.96l-1.37-1.37c-.4-.4-.92-.59-1.43-.59-.52 0-1.04.2-1.43.59L10.3 9.45l-7.72 7.72c-.78.78-.78 2.05 0 2.83L4 21.41c.39.39.9.59 1.41.59.51 0 1.02-.2 1.41-.59l7.78-7.78 2.81-2.81c.8-.78.8-2.07 0-2.86zM5.41 20L4 18.59l7.72-7.72 1.47 1.35L5.41 20z\"/>\n",
              "  </svg>\n",
              "      </button>\n",
              "      \n",
              "  <style>\n",
              "    .colab-df-container {\n",
              "      display:flex;\n",
              "      flex-wrap:wrap;\n",
              "      gap: 12px;\n",
              "    }\n",
              "\n",
              "    .colab-df-convert {\n",
              "      background-color: #E8F0FE;\n",
              "      border: none;\n",
              "      border-radius: 50%;\n",
              "      cursor: pointer;\n",
              "      display: none;\n",
              "      fill: #1967D2;\n",
              "      height: 32px;\n",
              "      padding: 0 0 0 0;\n",
              "      width: 32px;\n",
              "    }\n",
              "\n",
              "    .colab-df-convert:hover {\n",
              "      background-color: #E2EBFA;\n",
              "      box-shadow: 0px 1px 2px rgba(60, 64, 67, 0.3), 0px 1px 3px 1px rgba(60, 64, 67, 0.15);\n",
              "      fill: #174EA6;\n",
              "    }\n",
              "\n",
              "    [theme=dark] .colab-df-convert {\n",
              "      background-color: #3B4455;\n",
              "      fill: #D2E3FC;\n",
              "    }\n",
              "\n",
              "    [theme=dark] .colab-df-convert:hover {\n",
              "      background-color: #434B5C;\n",
              "      box-shadow: 0px 1px 3px 1px rgba(0, 0, 0, 0.15);\n",
              "      filter: drop-shadow(0px 1px 2px rgba(0, 0, 0, 0.3));\n",
              "      fill: #FFFFFF;\n",
              "    }\n",
              "  </style>\n",
              "\n",
              "      <script>\n",
              "        const buttonEl =\n",
              "          document.querySelector('#df-8dc2452b-8f47-4013-81b1-4d9974e4eef2 button.colab-df-convert');\n",
              "        buttonEl.style.display =\n",
              "          google.colab.kernel.accessAllowed ? 'block' : 'none';\n",
              "\n",
              "        async function convertToInteractive(key) {\n",
              "          const element = document.querySelector('#df-8dc2452b-8f47-4013-81b1-4d9974e4eef2');\n",
              "          const dataTable =\n",
              "            await google.colab.kernel.invokeFunction('convertToInteractive',\n",
              "                                                     [key], {});\n",
              "          if (!dataTable) return;\n",
              "\n",
              "          const docLinkHtml = 'Like what you see? Visit the ' +\n",
              "            '<a target=\"_blank\" href=https://colab.research.google.com/notebooks/data_table.ipynb>data table notebook</a>'\n",
              "            + ' to learn more about interactive tables.';\n",
              "          element.innerHTML = '';\n",
              "          dataTable['output_type'] = 'display_data';\n",
              "          await google.colab.output.renderOutput(dataTable, element);\n",
              "          const docLink = document.createElement('div');\n",
              "          docLink.innerHTML = docLinkHtml;\n",
              "          element.appendChild(docLink);\n",
              "        }\n",
              "      </script>\n",
              "    </div>\n",
              "  </div>\n",
              "  "
            ]
          },
          "metadata": {},
          "execution_count": 5
        }
      ],
      "source": [
        "df.head(5)"
      ]
    },
    {
      "cell_type": "code",
      "execution_count": null,
      "metadata": {
        "colab": {
          "base_uri": "https://localhost:8080/"
        },
        "id": "7uLQlu7kmXne",
        "outputId": "5900f51b-2b9a-40ac-9152-d2f28d5d5f2b"
      },
      "outputs": [
        {
          "output_type": "execute_result",
          "data": {
            "text/plain": [
              "state            object\n",
              "district         object\n",
              "market           object\n",
              "commodity        object\n",
              "variety          object\n",
              "arrival_date     object\n",
              "min_price         int64\n",
              "max_price         int64\n",
              "modal_price     float64\n",
              "dtype: object"
            ]
          },
          "metadata": {},
          "execution_count": 6
        }
      ],
      "source": [
        "df.dtypes"
      ]
    },
    {
      "cell_type": "code",
      "execution_count": null,
      "metadata": {
        "colab": {
          "base_uri": "https://localhost:8080/"
        },
        "id": "Bdl7qCvlme_R",
        "outputId": "b00cd0f0-e0af-4c59-feb5-11621231ae73"
      },
      "outputs": [
        {
          "output_type": "execute_result",
          "data": {
            "text/plain": [
              "state                   object\n",
              "district                object\n",
              "market                  object\n",
              "commodity               object\n",
              "variety                 object\n",
              "arrival_date    datetime64[ns]\n",
              "min_price                int64\n",
              "max_price                int64\n",
              "modal_price            float64\n",
              "dtype: object"
            ]
          },
          "metadata": {},
          "execution_count": 7
        }
      ],
      "source": [
        "df.arrival_date = pd.DatetimeIndex(df.arrival_date)\n",
        "df.dtypes"
      ]
    },
    {
      "cell_type": "code",
      "execution_count": null,
      "metadata": {
        "colab": {
          "base_uri": "https://localhost:8080/"
        },
        "id": "zRo_rj4xm2j5",
        "outputId": "d975e4e0-178d-4046-c863-7ec221602d67"
      },
      "outputs": [
        {
          "output_type": "execute_result",
          "data": {
            "text/plain": [
              "(array(['Kurnool', 'Bilaspur', 'Durg', 'Raigarh', 'Rajnandgaon',\n",
              "        'North Goa', 'Ahmedabad', 'Amreli', 'Anand', 'Banaskanth',\n",
              "        'Bharuch', 'Bhavnagar', 'Dahod', 'Jamnagar', 'Junagarh', 'Kheda',\n",
              "        'Mehsana', 'Navsari', 'Panchmahals', 'Porbandar', 'Rajkot',\n",
              "        'Surat', 'Surendranagar', 'Vadodara(Baroda)', 'Ambala', 'Bhiwani',\n",
              "        'Faridabad', 'Fatehabad', 'Gurgaon', 'Hissar', 'Jhajar', 'Jind',\n",
              "        'Kaithal', 'Karnal', 'Kurukshetra', 'Mahendragarh-Narnaul',\n",
              "        'Mewat', 'Palwal', 'Panchkula', 'Panipat', 'Rewari', 'Rohtak',\n",
              "        'Sirsa', 'Sonipat', 'Yamuna Nagar', 'Chamba', 'Hamirpur', 'Kangra',\n",
              "        'Kullu', 'Mandi', 'Shimla', 'Sirmore', 'Solan', 'Una', 'Anantnag',\n",
              "        'Jammu', 'Kathua', 'Rajouri', 'Srinagar', 'Udhampur', 'Lohardaga',\n",
              "        'Ranchi', 'Bagalkot', 'Bangalore', 'Belgaum', 'Bellary', 'Bidar',\n",
              "        'Bijapur', 'Chamrajnagar', 'Chikmagalur', 'Davangere', 'Dharwad',\n",
              "        'Gadag', 'Hassan', 'Haveri', 'Kolar', 'Mandya',\n",
              "        'Mangalore(Dakshin Kannad)', 'Mysore', 'Raichur', 'Shimoga',\n",
              "        'Tumkur', 'Udupi', 'Alappuzha', 'Ernakulam', 'Idukki', 'Kannur',\n",
              "        'Kasargod', 'Kollam', 'Kottayam', 'Kozhikode(Calicut)',\n",
              "        'Malappuram', 'Palakad', 'Thirssur', 'Thiruvananthapuram',\n",
              "        'Alirajpur', 'Anupur', 'Badwani', 'Bhopal', 'Burhanpur',\n",
              "        'Chhatarpur', 'Chhindwara', 'Damoh', 'Dewas', 'Dhar', 'Guna',\n",
              "        'Gwalior', 'Harda', 'Hoshangabad', 'Indore', 'Jabalpur', 'Jhabua',\n",
              "        'Khandwa', 'Mandsaur', 'Morena', 'Narsinghpur', 'Neemuch',\n",
              "        'Raisen', 'Rajgarh', 'Ratlam', 'Sagar', 'Satna', 'Sehore',\n",
              "        'Shajapur', 'Sheopur', 'Shivpuri', 'Ujjain', 'Ahmednagar',\n",
              "        'Amarawati', 'Aurangabad', 'Beed', 'Buldhana', 'Chandrapur',\n",
              "        'Dhule', 'Jalgaon', 'Kolhapur', 'Mumbai', 'Nagpur', 'Nandurbar',\n",
              "        'Nashik', 'Osmanabad', 'Pune', 'Raigad', 'Ratnagiri', 'Sangli',\n",
              "        'Satara', 'Sholapur', 'Thane', 'Mokokchung', 'Delhi', 'Angul',\n",
              "        'Balasore', 'Bargarh', 'Bhadrak', 'Bolangir', 'Boudh', 'Cuttack',\n",
              "        'Dhenkanal', 'Ganjam', 'Jajpur', 'Jharsuguda', 'Kalahandi',\n",
              "        'Kendrapara', 'Keonjhar', 'Khurda', 'Malkangiri', 'Mayurbhanja',\n",
              "        'Nuapada', 'Rayagada', 'Sonepur', 'Sundergarh', 'Amritsar',\n",
              "        'Barnala', 'Bhatinda', 'Faridkot', 'Fatehgarh', 'Fazilka',\n",
              "        'Ferozpur', 'Gurdaspur', 'Hoshiarpur', 'Jalandhar', 'kapurthala',\n",
              "        'Ludhiana', 'Mansa', 'Moga', 'Mohali', 'Muktsar', 'Nawanshahr',\n",
              "        'Pathankot', 'Patiala', 'Ropar (Rupnagar)', 'Sangrur', 'Tarntaran',\n",
              "        'Ajmer', 'Alwar', 'Barmer', 'Bharatpur', 'Bhilwara', 'Bikaner',\n",
              "        'Chittorgarh', 'Churu', 'Ganganagar', 'Hanumangarh', 'Jaipur',\n",
              "        'Jaisalmer', 'Jalore', 'Jhunjunu', 'Jodhpur', 'Kota', 'Nagaur',\n",
              "        'Pali', 'Rajasamand', 'Sikar', 'Sirohi', 'Tonk', 'Udaipur',\n",
              "        'Hyderabad', 'Medak', 'Dhalai', 'Khowai', 'North Tripura',\n",
              "        'Sepahijala', 'South District', 'Unokoti', 'Agra', 'Aligarh',\n",
              "        'Allahabad', 'Ambedkarnagar', 'Auraiya', 'Azamgarh', 'Badaun',\n",
              "        'Baghpat', 'Bahraich', 'Ballia', 'Balrampur', 'Banda', 'Barabanki',\n",
              "        'Bareilly', 'Basti', 'Bhadohi(Sant Ravi Nagar)', 'Bijnor',\n",
              "        'Bulandshahar', 'Chandauli', 'Chitrakut', 'Deoria', 'Etah',\n",
              "        'Etawah', 'Faizabad', 'Farukhabad', 'Fatehpur', 'Firozabad',\n",
              "        'Gautam Budh Nagar', 'Ghaziabad', 'Ghazipur', 'Gonda', 'Gorakhpur',\n",
              "        'Hardoi', 'Hathras', 'Jalaun (Orai)', 'Jaunpur', 'Jhansi',\n",
              "        'Jyotiba Phule Nagar', 'Kannuj', 'Kanpur', 'Kaushambi',\n",
              "        'Khiri (Lakhimpur)', 'Lakhimpur', 'Lalitpur', 'Lucknow',\n",
              "        'Maharajganj', 'Mahoba', 'Mainpuri', 'Mathura',\n",
              "        'Mau(Maunathbhanjan)', 'Meerut', 'Mirzapur', 'Muradabad',\n",
              "        'Muzaffarnagar', 'Padrauna(Kusinagar)', 'Pillibhit', 'Pratapgarh',\n",
              "        'Raebarelli', 'Rampur', 'Saharanpur', 'Sant Kabir Nagar',\n",
              "        'Shahjahanpur', 'Siddharth Nagar', 'Sitapur', 'Sonbhadra',\n",
              "        'Sultanpur', 'Unnao', 'Varanasi', 'Champawat', 'Dehradoon',\n",
              "        'Garhwal (Pauri)', 'Haridwar', 'Nanital', 'UdhamSinghNagar',\n",
              "        'Bankura', 'Birbhum', 'Burdwan', 'Coochbehar', 'Darjeeling',\n",
              "        'Hooghly', 'Howrah', 'Jalpaiguri', 'Kolkata', 'Malda',\n",
              "        'Medinipur(E)', 'Medinipur(W)', 'Murshidabad', 'Nadia',\n",
              "        'North 24 Parganas', 'Puruliya', 'Sounth 24 Parganas'],\n",
              "       dtype=object),\n",
              " array(['Andhra Pradesh', 'Chattisgarh', 'Goa', 'Gujarat', 'Haryana',\n",
              "        'Himachal Pradesh', 'Jammu and Kashmir', 'Jharkhand', 'Karnataka',\n",
              "        'Kerala', 'Madhya Pradesh', 'Maharashtra', 'Nagaland',\n",
              "        'NCT of Delhi', 'Odisha', 'Punjab', 'Rajasthan', 'Telangana',\n",
              "        'Tripura', 'Uttar Pradesh', 'Uttrakhand', 'West Bengal'],\n",
              "       dtype=object),\n",
              " array(['Kurnool', 'Pattikonda', 'Tiphra', 'Durg', 'Raigarh',\n",
              "        'Rajnandgaon', 'Mapusa',\n",
              "        'Ahmedabad(Chimanbhai Patal Market Vasana)', 'Dhari',\n",
              "        'Anand(Veg,Yard,Anand)', 'Khambhat(Veg Yard Khambhat)',\n",
              "        'Petlad(Veg Yard, Petlad)', 'Deesa(Deesa Veg Yard)', 'Bharuch',\n",
              "        'Bhavnagar', 'Mahuva(Station Road)', 'Dahod(Veg. Market)',\n",
              "        'Jamnagar', 'Visavadar', 'Kapadvanj', 'Nadiyad(Piplag)',\n",
              "        'Mehsana(Mehsana Veg)', 'Bilimora', 'Godhra', 'Porbandar',\n",
              "        'Gondal', 'Jetpur(Dist.Rajkot)', 'Morbi', 'Rajkot(Ghee Peeth)',\n",
              "        'Songadh', 'Surat', 'Vadhvan', 'Padra', 'Vadodara(Sayajipura)',\n",
              "        'Ambala Cantt.', 'Ambala City', 'Barara', 'Mullana', 'Naraingarh',\n",
              "        'Shahzadpur', 'Ch. Dadri', 'Ballabhgarh', 'Faridabad', 'Fatehabad',\n",
              "        'Jakhal', 'Farukh Nagar', 'Gurgaon', 'Pataudi', 'Sohna',\n",
              "        'Barwala(Hisar)', 'Hansi', 'Narnaund', 'Uklana', 'Bahadurgarh',\n",
              "        'Jhajjar', 'Jind', 'Narwana', 'Safidon', 'Dhand', 'Pundri',\n",
              "        'Siwan', 'Asandh', 'Gharaunda', 'New Grain Market(main), Karnal',\n",
              "        'Babain', 'Iamailabad', 'Ladwa', 'Pehowa', 'Pipli', 'Shahabad',\n",
              "        'Thanesar', 'Mohindergarh', 'Nuh', 'Punhana', 'Taura', 'Hassanpur',\n",
              "        'Palwal', 'Barwala', 'New Grain Market , Panchkula',\n",
              "        'Panchkul(Kalka)', 'Madlauda', 'Panipat', 'Samalkha', 'Rewari',\n",
              "        'Meham', 'New Grain Market , Rohtak', 'Sampla', 'Ellanabad',\n",
              "        'kalanwali', 'Rania', 'Sirsa', 'Ganaur', 'Gohana', 'Sonepat',\n",
              "        'Sonepat(Kharkhoda)', 'Chhachrauli', 'Jagadhri', 'Mustafabad',\n",
              "        'Radaur', 'Sadhaura', 'Yamuna Nagar', 'Bilaspur', 'Chamba',\n",
              "        'Hamirpur', 'Hamirpur(Nadaun)', 'Kangra', 'Kangra(Baijnath)',\n",
              "        'Kangra(Jaisinghpur)', 'Kangra(Jassour)', 'Kangra(Nagrota Bagwan)',\n",
              "        'Palampur', 'Bhuntar', 'Kullu', 'Kullu(Chauri Bihal)',\n",
              "        'Dhanotu (Mandi)', 'Mandi(Mandi)', 'Mandi(Takoli)', 'Rohroo',\n",
              "        'Shimla', 'Shimla and Kinnaur(Rampur)', 'Nahan', 'Paonta Sahib',\n",
              "        'Solan', 'Solan(Nalagarh)', 'Santoshgarh', 'Una',\n",
              "        'Ashahipora (Anantnagh)', 'Akhnoor', 'Batote',\n",
              "        'Narwal Jammu (F&V)', 'Samba', 'Kathua', 'Rajouri (F&V)',\n",
              "        'Parimpore', 'Reasi', 'Udhampur', 'Lohardaga', 'Khunti',\n",
              "        'Bagalakot', 'Jamakhandi', 'Bangalore', 'Channapatana',\n",
              "        'Doddaballa Pur', 'Ramanagara', 'Belgaum', 'Bellary', 'Hospet',\n",
              "        'Humanabad', 'Bijapur', 'Chamaraj Nagar', 'Gundlupet', 'Bagepalli',\n",
              "        'Chikkamagalore', 'Kadur', 'Tarikere', 'Davangere', 'Dharwar',\n",
              "        'Hubli (Amaragol)', 'Gadag', 'Arakalgud', 'Arasikere', 'Belur',\n",
              "        'Channarayapatna', 'Hassan', 'Haveri', 'Ranebennur', 'Bangarpet',\n",
              "        'Chickkaballapura', 'Chintamani', 'Gowribidanoor', 'Kolar',\n",
              "        'Malur', 'Srinivasapur', 'K.R. Pet', 'Mandya', 'Mangalore',\n",
              "        'Hunsur', 'Mysore (Bandipalya)', 'Nanjangud', 'T. Narasipura',\n",
              "        'Raichur', 'Bhadravathi', 'Shimoga', 'Gubbi', 'Tiptur', 'Tumkur',\n",
              "        'Udupi', 'Alappuzha', 'Aroor', 'Chengannur', 'Cherthala',\n",
              "        'Harippad', 'Kayamkulam', 'Madhavapuram', 'Mannar', 'Aluva',\n",
              "        'Angamaly', 'Ernakulam', 'Kothamangalam', 'Moovattupuzha',\n",
              "        'Perumbavoor', 'Piravam', 'Thrippunithura', 'Kattappana', 'Munnar',\n",
              "        'Nedumkandam', 'Thodupuzha', 'Vandiperiyar', 'Kannur',\n",
              "        'Kanjangadu', 'Neeleswaram', 'Anchal', 'Chathanoor',\n",
              "        'Athirampuzha', 'Ettumanoor', 'Kanjirappally', 'Kottayam',\n",
              "        'Kuruppanthura', 'Pala', 'Pampady', 'Thalayolaparambu', 'Kallachi',\n",
              "        'Mukkom', 'Palayam', 'Perambra', 'Quilandy', 'Thamarassery',\n",
              "        'Kondotty', 'Kottakkal', 'Manjeri', 'Parappanangadi',\n",
              "        'Perinthalmanna', 'Thirurrangadi', 'Koduvayoor', 'Palakkad',\n",
              "        'Pattambi', 'vadakarapathy', 'Vadakkenchery', 'Chalakudy',\n",
              "        'Chavakkad', 'Chelakkara', 'Irinjalakkuda', 'Kodungalloor',\n",
              "        'Thrissur', 'Wadakkanchery', 'Aralamoodu', 'Chala', 'Pothencode',\n",
              "        'Vamanapuram', 'Alirajpur(F&V)', 'Anuppur', 'Sendhwa',\n",
              "        'Bhopal(F&V)', 'Burhanpur(F&V)', 'Chhatarpur', 'Chhindwara(F&V)',\n",
              "        'Damoh(F&V)', 'Dewas(F&V)', 'Haatpipliya', 'Badnawar(F&V)',\n",
              "        'Dhamnod', 'Dhar(F&V)', 'Kukshi', 'Rajgarh', 'Guna(F&V)',\n",
              "        'Lashkar(F&V)', 'Harda(F&V)', 'Timarni', 'Hoshangabad', 'Pipariya',\n",
              "        'Gautampura', 'Indore(F&V)', 'Sanwer', 'Jabalpur(F&V)', 'Jhabua',\n",
              "        'Petlawad', 'Khandwa(F&V)', 'Pandhana(F&V)', 'Mandsaur',\n",
              "        'Shamgarh(F&V)', 'Sitmau', 'Morena(F&V)', 'Porsa(F&V)',\n",
              "        'Gadarwada', 'Javad', 'Manasa', 'Neemuch', 'Raisen', 'Biaora',\n",
              "        'Narsinghgarh', 'Ratlam(F&V)', 'Sailana', 'Deori', 'Sagar(F&V)',\n",
              "        'Satna(F&V)', 'Ashta', 'Sehore', 'Berachha', 'Kalapipal',\n",
              "        'Shajapur(F&V)', 'Shujalpur', 'Soyatkalan', 'Syopurkalan(F&V)',\n",
              "        'Shivpuri(F&V)', 'Ujjain(F&V)', 'Ahmednagar', 'Akole', 'Jamkhed',\n",
              "        'Kopargaon', 'Newasa(Ghodegaon)', 'Parner', 'Pathardi', 'Rahata',\n",
              "        'Rahuri', 'Rahuri(Vambori)', 'Sangamner', 'Shevgaon', 'Shrigonda',\n",
              "        'Shrirampur', 'Amarawati', 'Amrawati(Frui & Veg. Market)',\n",
              "        'Morshi', 'Aurangabad', 'Gangapur', 'Lasur Station', 'Paithan',\n",
              "        'Vaijpur', 'Kada', 'Malkapur', 'Nandura', 'Chandrapur(Ganjwad)',\n",
              "        'Dhule', 'Sakri', 'Shirpur', 'Chalisgaon', 'Jalgaon', 'Yawal',\n",
              "        'Kolhapur', 'Vashi New Mumbai', 'Kamthi', 'Nagpur', 'Ramtek',\n",
              "        'Navapur', 'Chandvad', 'Devala', 'Dindori', 'Dindori(Vani)',\n",
              "        'Kalvan', 'Lasalgaon', 'Lasalgaon(Niphad)', 'Lasalgaon(Vinchur)',\n",
              "        'Malegaon', 'Malegaon(Umarane)', 'Manmad', 'Nampur', 'Nandgaon',\n",
              "        'Nasik', 'Pimpalgaon', 'Pimpalgaon Baswant(Saykheda)', 'Satana',\n",
              "        'Sinner', 'Umrane', 'Yeola', 'Osmanabad', 'Washi(Thane  Market)',\n",
              "        'Dound', 'Indapur', 'Junnar', 'Junnar(Alephata)', 'Junnar(Otur)',\n",
              "        'Khed(Chakan)', 'Maanachar', 'Pune', 'Pune(Hadapsar)',\n",
              "        'Pune(Khadiki)', 'Pune(Manjri)', 'Pune(Moshi)', 'Pune(Pimpri)',\n",
              "        'Karjat(Raigad)', 'Ratnagiri (Nachane)',\n",
              "        'Sangli(Phale, Bhajipura Market)', 'Vita', 'Karad', 'Lonand',\n",
              "        'Palthan', 'Satara', 'Vai', 'Akluj', 'Barshi', 'Karmala',\n",
              "        'Kurdwadi', 'Kurdwadi(Modnimb)', 'Mangal Wedha', 'Pandharpur',\n",
              "        'Solapur', 'Kalyan', 'Murbad', 'Mokokchung Town', 'Azadpur',\n",
              "        'Keshopur', 'Shahdara', 'Angaura', 'Angul', 'Angul(Jarapada)',\n",
              "        'Talcher', 'Bampada', 'Barikpur', 'Jaleswar', 'Nilagiri',\n",
              "        'Attabira', 'Bargarh', 'Bargarh(Barapalli)', 'Godabhaga',\n",
              "        'Bhadrak', 'Chandabali', 'Sahidngar', 'Bolangir', 'Tusura',\n",
              "        'Boudh', 'Khunthabandha', 'Kendupatna', 'Kendupatna(Niali)',\n",
              "        'Dhenkanal', 'Hindol', 'Kamakhyanagar', 'Mottagaon', 'Bhanjanagar',\n",
              "        'Digapahandi', 'Hinjilicut', 'Jajpur', 'Jhumpura', 'Jharsuguda',\n",
              "        'Bhawanipatna', 'Junagarh', 'Kalahandi(Dharamagarh)', 'Kesinga',\n",
              "        'Chatta Krushak Bazar', 'Gopa', 'Kendrapara',\n",
              "        'Kendrapara(Marshaghai)', 'Pattamundai', 'Keonjhar',\n",
              "        'Keonjhar(Dhekikote)', 'Saharpada', 'Balugaon', 'Jatni',\n",
              "        'Malkanagiri', 'Malkangiri(Korakunda)', 'Baripada', 'Betnoti',\n",
              "        'Chuliaposi', 'Saraskana', 'Udala', 'Khariar', 'Khariar Road',\n",
              "        'Rayagada', 'Birmaharajpur', 'Dungurapalli', 'Pandkital', 'Bonai',\n",
              "        'Sargipali', 'Ajnala', 'Amritsar(Amritsar Mewa Mandi)',\n",
              "        'Gehri(Jandiala mandi)', 'Rayya', 'Barnala', 'Bathinda',\n",
              "        'Bhagta Bhai Ka', 'Bhucho', 'Goniana', 'Maur', 'Raman',\n",
              "        'Rampuraphul(Nabha Mandi)', 'Talwandi Sabo', 'Faridkot', 'Jaitu',\n",
              "        'Kotkapura', 'Bassi Pathana', 'Khamano', 'Sirhind', 'Abohar',\n",
              "        'Fazilka', 'Jalalabad', 'Ferozepur Cantt.', 'Firozepur City',\n",
              "        'Guru Har Sahai', 'Makhu', 'Mamdot', 'Zira', 'Batala', 'Dhariwal',\n",
              "        'Dinanagar', 'F.G.Churian', 'Gurdaspur', 'Quadian', 'Dasuya',\n",
              "        'Garh Shankar', 'Garh Shankar(Mahalpur)',\n",
              "        'GarhShankar (Kotfatuhi)', 'Hoshiarpur', 'Mukerian',\n",
              "        'Mukerian(Talwara)', 'Tanda Urmur', 'Adampur', 'Bhogpur', 'Bilga',\n",
              "        'Goraya', 'Nakodar', 'Phillaur(Apra Mandi)', 'Bhulath', 'Phagwara',\n",
              "        'Doraha', 'Jagraon', 'Khanna', 'Ludhiana', 'Machhiwara',\n",
              "        'Sahnewal', 'Samrala', 'Budalada', 'Mansa', 'Baghapurana',\n",
              "        'Dharamkot', 'Moga', 'Nihal Singh Wala', 'Banur',\n",
              "        'Banur (Kheragaju)', 'Dera Bassi', 'Kharar', 'Kurali', 'Lalru',\n",
              "        'Bariwala', 'Giddarbaha', 'Malout', 'Muktsar', 'Balachaur',\n",
              "        'Banga', 'Nawan Shahar(MandiRaho)', 'Nawan Shahar(Subzi Mandi)',\n",
              "        'Pathankot', 'Dudhansadhan', 'Ghanaur', 'Nabha', 'Patiala',\n",
              "        'Patran', 'Rajpura', 'Samana', 'Anandpur Sahib', 'Chamkaur Sahib',\n",
              "        'Morinda', 'Ropar', 'Bhawanigarh', 'Dhuri', 'Khanauri',\n",
              "        'Lehra Gaga', 'Malerkotla', 'Sangrur', 'Sunam', 'Patti',\n",
              "        'Tarantaran', 'Ajmer(F&V)', 'Beawar', 'Bijay Nagar', 'Kekri',\n",
              "        'Madanganj Kishanganj', 'Alwar(FV)', 'Khairthal', 'Balotra',\n",
              "        'Bayana', 'Nadwai', 'Bhilwara', 'Bikaner(F&V)', 'Chittorgarh',\n",
              "        'Nimbahera', 'Pratapgarh', 'Churu', 'Sujangarh(Churu)', 'Padampur',\n",
              "        'Sadulshahar', 'Sriganganagar(F&V)', 'Bhadara', 'Hanumangarh',\n",
              "        'Hanumangarh Town', 'Hanumangarh(Urlivas)', 'Pilli Banga',\n",
              "        'Sangriya', 'Suratgarh', 'Chomu(F&V)', 'Jaipur(Bassi)',\n",
              "        'Jaipur(F&V)', 'Jaisalmer', 'Jalore', 'Sanchor', 'Jhunjhunu',\n",
              "        'Nawalgarh', 'Jodhpur(F&V)(Bhadwasia)', 'Kota (FV)', 'Nagour(FV)',\n",
              "        'Sojat Road', 'Rajasamand', 'Sikar', 'Surajgarh', 'Abu Road',\n",
              "        'Tonk', 'Udaipur(F&V)', 'Bowenpally', 'Gudimalkapur', 'L B Nagar',\n",
              "        'Mahboob Manison', 'Sadasivpet', 'Gandacharra', 'Halahali',\n",
              "        'Kalyanpur', 'Teliamura', 'Dasda', 'Kadamtala', 'Kanchanpur',\n",
              "        'Panisagar', 'Bishalgarh', 'Bishramganj', 'Jumpuijala', 'Melaghar',\n",
              "        'Barpathari', 'Kalsi', 'Manubazar', 'Masmara', 'Achnera', 'Agra',\n",
              "        'Fatehpur Sikri', 'Jagnair', 'Jarar', 'Khairagarh', 'Samsabad',\n",
              "        'Aligarh', 'Atrauli', 'Charra', 'Khair', 'Ajuha', 'Allahabad',\n",
              "        'Jasra', 'Akbarpur', 'Tanda', 'Achalda', 'Auraiya', 'Dibiapur',\n",
              "        'Azamgarh', 'Badayoun', 'Bilsi', 'Shahaswan', 'Ujhani',\n",
              "        'Wazirganj', 'Bagpat', 'Baraut', 'Khekda', 'Bahraich', 'Naanpara',\n",
              "        'Risia', 'Ruperdeeha', 'Ballia', 'Chitwadagaon', 'Rasda',\n",
              "        'Vilthararoad', 'Balrampur', 'Tulsipur', 'Utraula', 'Atarra',\n",
              "        'Baberu', 'Banda', 'Barabanki', 'Rudauli', 'Safdarganj', 'Anwala',\n",
              "        'Bahedi', 'Bareilly', 'Basti', 'Gopiganj', 'Bijnaur', 'Chaandpur',\n",
              "        'Dhampur', 'Kiratpur', 'Nagina', 'Najibabad', 'Anoop Shahar',\n",
              "        'Buland Shahr', 'Divai', 'Gulavati', 'Jahangirabad', 'Khurja',\n",
              "        'Sikanderabad', 'Sikarpur', 'Siyana', 'Chandoli', 'Karvi',\n",
              "        'Barhaj', 'Devariya', 'Aliganj', 'Awagarh', 'Etah', 'Ganjdudwara',\n",
              "        'Kasganj', 'Bharthna', 'Etawah', 'Jasvantnagar', 'Faizabad',\n",
              "        'Farukhabad', 'Kamlaganj', 'Kayamganj', 'Mohamadabad', 'Bindki',\n",
              "        'Fatehpur', 'Jahanabad', 'Firozabad', 'Shikohabad', 'Sirsaganj',\n",
              "        'Tundla', 'Dadri', 'Dankaur', 'Ghaziabad', 'Hapur', 'Muradnagar',\n",
              "        'Noida', 'Gazipur', 'Jamanian', 'Jangipura', 'Saidpur', 'Yusufpur',\n",
              "        'Gonda', 'Karnailganj', 'Nawabganj', 'Chorichora', 'Gorakhpur',\n",
              "        'Sehjanwa', 'Bharuasumerpur', 'Maudaha', 'Muskara', 'Raath',\n",
              "        'Hardoi', 'Madhoganj', 'Sandi', 'Sandila', 'Shahabad(New Mandi)',\n",
              "        'Haathras', 'Shadabad', 'Ait', 'Jalaun', 'Konch', 'Orai',\n",
              "        'Jaunpur', 'Mugrabaadshahpur', 'Shahganj', 'Chirgaon', 'Gurusarai',\n",
              "        'Jhansi', 'Mauranipur', 'Moth', 'Amroha', 'Dhanura', 'Hasanpur',\n",
              "        'Chhibramau(Kannuj)', 'Kannauj', 'Choubepur', 'Jhijhank',\n",
              "        'Kanpur(Grain)', 'Pukhrayan', 'Rura', 'Uttaripura', 'Varipaal',\n",
              "        'Bharwari', 'Maigalganj', 'Mohammdi', 'Tikonia', 'Golagokarnath',\n",
              "        'Lakhimpur', 'Paliakala', 'Lalitpur', 'Lucknow', 'Anandnagar',\n",
              "        'Gadaura', 'Maharajganj', 'Nautnava', 'Partaval', 'Mahoba',\n",
              "        'Bewar', 'Ghiraur', 'Mainpuri', 'Kosikalan', 'Mathura', 'Kopaganj',\n",
              "        'Mau', 'Mawana', 'Meerut', 'Sardhana', 'Mirzapur', 'Chandausi',\n",
              "        'Muradabad', 'Sambhal', 'Kadhle', 'Kairana', 'Khatauli',\n",
              "        'Muzzafarnagar', 'Shahpur', 'Shamli', 'Thanabhawan',\n",
              "        'Tamkuhi Road', 'Billsadda', 'Pilibhit', 'Puranpur', 'Vishalpur',\n",
              "        'Bachranwa', 'Jayas', 'Lalganj', 'Raibareilly', 'Milak', 'Rampur',\n",
              "        'Vilaspur', 'Chutmalpur', 'Devband', 'Gangoh', 'Nanuta',\n",
              "        'Rampurmaniharan', 'Saharanpur', 'Sultanpurchilkana', 'Khalilabad',\n",
              "        'Badda', 'Katra', 'Puwaha', 'Shahjahanpur', 'Tilhar', 'Naugarh',\n",
              "        'Sahiyapur', 'Soharatgarh', 'Wansi', 'Hargaon (Laharpur)',\n",
              "        'Mehmoodabad', 'Sindholi', 'Sitapur', 'Viswan', 'Dudhi',\n",
              "        'Robertsganj', 'Jafarganj', 'Sultanpur', 'Bangarmau', 'Purwa',\n",
              "        'Unnao', 'Varanasi(F&V)', 'Tanakpur', 'Dehradoon', 'Rishikesh',\n",
              "        'Vikasnagar', 'Kotadwara', 'Bhagwanpur(Naveen Mandi Sthal)',\n",
              "        'Haridwar Union', 'Lakshar', 'Manglaur', 'Roorkee', 'Haldwani',\n",
              "        'Ramnagar', 'Jaspur(UC)', 'Kashipur', 'Khateema', 'Kicchha',\n",
              "        'Rudrapur', 'Sitarganj', 'Bankura Sadar', 'Bishnupur(Bankura)',\n",
              "        'Birbhum', 'Bolpur', 'Rampurhat', 'Sainthia', 'Asansol', 'Burdwan',\n",
              "        'Durgapur', 'Kalna', 'Katwa', 'Dinhata', 'Mekhliganj',\n",
              "        'Karsiyang(Matigara)', 'Siliguri', 'Sheoraphuly',\n",
              "        'Ramkrishanpur(Howrah)', 'Uluberia', 'Alipurduar', 'Belacoba',\n",
              "        'Dhupguri', 'Falakata', 'Jalpaiguri Sadar', 'Moynaguri',\n",
              "        'Bara Bazar (Posta Bazar)', 'English Bazar', 'Gajol', 'Samsi',\n",
              "        'Egra/contai', 'Tamluk (Medinipur E)', 'Medinipur(West)',\n",
              "        'Jangipur', 'Chakdah', 'Kalyani', 'Nadia', 'Ranaghat', 'Barasat',\n",
              "        'Habra', 'Balarampur', 'Kasipur', 'Purulia', 'Baruipur(Canning)',\n",
              "        'Diamond Harbour(South 24-pgs)'], dtype=object))"
            ]
          },
          "metadata": {},
          "execution_count": 8
        }
      ],
      "source": [
        "pd.unique(df.district), pd.unique(df.state), pd.unique(df.market)"
      ]
    },
    {
      "cell_type": "code",
      "execution_count": null,
      "metadata": {
        "id": "5xUHusLhpMY7"
      },
      "outputs": [],
      "source": [
        "df.set_index('arrival_date', inplace=True)"
      ]
    },
    {
      "cell_type": "code",
      "execution_count": null,
      "metadata": {
        "colab": {
          "base_uri": "https://localhost:8080/",
          "height": 238
        },
        "id": "7rEXJ04Pnq8U",
        "outputId": "c2af0594-9d9d-4595-d45b-440b9209f0f5"
      },
      "outputs": [
        {
          "output_type": "execute_result",
          "data": {
            "text/plain": [
              "                       state district   market commodity variety  min_price  \\\n",
              "arrival_date                                                                  \n",
              "2020-03-01    Andhra Pradesh  Kurnool  Kurnool     Onion   Local       1350   \n",
              "2020-04-01    Andhra Pradesh  Kurnool  Kurnool     Onion   Local       1390   \n",
              "2020-06-01    Andhra Pradesh  Kurnool  Kurnool     Onion   Local       1460   \n",
              "2020-07-01    Andhra Pradesh  Kurnool  Kurnool     Onion   Local       2010   \n",
              "2020-10-01    Andhra Pradesh  Kurnool  Kurnool     Onion   Local       1320   \n",
              "\n",
              "              max_price  modal_price  \n",
              "arrival_date                          \n",
              "2020-03-01         4390       3100.0  \n",
              "2020-04-01         4400       3200.0  \n",
              "2020-06-01         5150       4310.0  \n",
              "2020-07-01         5200       4200.0  \n",
              "2020-10-01         4050       3300.0  "
            ],
            "text/html": [
              "\n",
              "  <div id=\"df-d6801265-7147-49e3-ae36-b0c8310c37f5\">\n",
              "    <div class=\"colab-df-container\">\n",
              "      <div>\n",
              "<style scoped>\n",
              "    .dataframe tbody tr th:only-of-type {\n",
              "        vertical-align: middle;\n",
              "    }\n",
              "\n",
              "    .dataframe tbody tr th {\n",
              "        vertical-align: top;\n",
              "    }\n",
              "\n",
              "    .dataframe thead th {\n",
              "        text-align: right;\n",
              "    }\n",
              "</style>\n",
              "<table border=\"1\" class=\"dataframe\">\n",
              "  <thead>\n",
              "    <tr style=\"text-align: right;\">\n",
              "      <th></th>\n",
              "      <th>state</th>\n",
              "      <th>district</th>\n",
              "      <th>market</th>\n",
              "      <th>commodity</th>\n",
              "      <th>variety</th>\n",
              "      <th>min_price</th>\n",
              "      <th>max_price</th>\n",
              "      <th>modal_price</th>\n",
              "    </tr>\n",
              "    <tr>\n",
              "      <th>arrival_date</th>\n",
              "      <th></th>\n",
              "      <th></th>\n",
              "      <th></th>\n",
              "      <th></th>\n",
              "      <th></th>\n",
              "      <th></th>\n",
              "      <th></th>\n",
              "      <th></th>\n",
              "    </tr>\n",
              "  </thead>\n",
              "  <tbody>\n",
              "    <tr>\n",
              "      <th>2020-03-01</th>\n",
              "      <td>Andhra Pradesh</td>\n",
              "      <td>Kurnool</td>\n",
              "      <td>Kurnool</td>\n",
              "      <td>Onion</td>\n",
              "      <td>Local</td>\n",
              "      <td>1350</td>\n",
              "      <td>4390</td>\n",
              "      <td>3100.0</td>\n",
              "    </tr>\n",
              "    <tr>\n",
              "      <th>2020-04-01</th>\n",
              "      <td>Andhra Pradesh</td>\n",
              "      <td>Kurnool</td>\n",
              "      <td>Kurnool</td>\n",
              "      <td>Onion</td>\n",
              "      <td>Local</td>\n",
              "      <td>1390</td>\n",
              "      <td>4400</td>\n",
              "      <td>3200.0</td>\n",
              "    </tr>\n",
              "    <tr>\n",
              "      <th>2020-06-01</th>\n",
              "      <td>Andhra Pradesh</td>\n",
              "      <td>Kurnool</td>\n",
              "      <td>Kurnool</td>\n",
              "      <td>Onion</td>\n",
              "      <td>Local</td>\n",
              "      <td>1460</td>\n",
              "      <td>5150</td>\n",
              "      <td>4310.0</td>\n",
              "    </tr>\n",
              "    <tr>\n",
              "      <th>2020-07-01</th>\n",
              "      <td>Andhra Pradesh</td>\n",
              "      <td>Kurnool</td>\n",
              "      <td>Kurnool</td>\n",
              "      <td>Onion</td>\n",
              "      <td>Local</td>\n",
              "      <td>2010</td>\n",
              "      <td>5200</td>\n",
              "      <td>4200.0</td>\n",
              "    </tr>\n",
              "    <tr>\n",
              "      <th>2020-10-01</th>\n",
              "      <td>Andhra Pradesh</td>\n",
              "      <td>Kurnool</td>\n",
              "      <td>Kurnool</td>\n",
              "      <td>Onion</td>\n",
              "      <td>Local</td>\n",
              "      <td>1320</td>\n",
              "      <td>4050</td>\n",
              "      <td>3300.0</td>\n",
              "    </tr>\n",
              "  </tbody>\n",
              "</table>\n",
              "</div>\n",
              "      <button class=\"colab-df-convert\" onclick=\"convertToInteractive('df-d6801265-7147-49e3-ae36-b0c8310c37f5')\"\n",
              "              title=\"Convert this dataframe to an interactive table.\"\n",
              "              style=\"display:none;\">\n",
              "        \n",
              "  <svg xmlns=\"http://www.w3.org/2000/svg\" height=\"24px\"viewBox=\"0 0 24 24\"\n",
              "       width=\"24px\">\n",
              "    <path d=\"M0 0h24v24H0V0z\" fill=\"none\"/>\n",
              "    <path d=\"M18.56 5.44l.94 2.06.94-2.06 2.06-.94-2.06-.94-.94-2.06-.94 2.06-2.06.94zm-11 1L8.5 8.5l.94-2.06 2.06-.94-2.06-.94L8.5 2.5l-.94 2.06-2.06.94zm10 10l.94 2.06.94-2.06 2.06-.94-2.06-.94-.94-2.06-.94 2.06-2.06.94z\"/><path d=\"M17.41 7.96l-1.37-1.37c-.4-.4-.92-.59-1.43-.59-.52 0-1.04.2-1.43.59L10.3 9.45l-7.72 7.72c-.78.78-.78 2.05 0 2.83L4 21.41c.39.39.9.59 1.41.59.51 0 1.02-.2 1.41-.59l7.78-7.78 2.81-2.81c.8-.78.8-2.07 0-2.86zM5.41 20L4 18.59l7.72-7.72 1.47 1.35L5.41 20z\"/>\n",
              "  </svg>\n",
              "      </button>\n",
              "      \n",
              "  <style>\n",
              "    .colab-df-container {\n",
              "      display:flex;\n",
              "      flex-wrap:wrap;\n",
              "      gap: 12px;\n",
              "    }\n",
              "\n",
              "    .colab-df-convert {\n",
              "      background-color: #E8F0FE;\n",
              "      border: none;\n",
              "      border-radius: 50%;\n",
              "      cursor: pointer;\n",
              "      display: none;\n",
              "      fill: #1967D2;\n",
              "      height: 32px;\n",
              "      padding: 0 0 0 0;\n",
              "      width: 32px;\n",
              "    }\n",
              "\n",
              "    .colab-df-convert:hover {\n",
              "      background-color: #E2EBFA;\n",
              "      box-shadow: 0px 1px 2px rgba(60, 64, 67, 0.3), 0px 1px 3px 1px rgba(60, 64, 67, 0.15);\n",
              "      fill: #174EA6;\n",
              "    }\n",
              "\n",
              "    [theme=dark] .colab-df-convert {\n",
              "      background-color: #3B4455;\n",
              "      fill: #D2E3FC;\n",
              "    }\n",
              "\n",
              "    [theme=dark] .colab-df-convert:hover {\n",
              "      background-color: #434B5C;\n",
              "      box-shadow: 0px 1px 3px 1px rgba(0, 0, 0, 0.15);\n",
              "      filter: drop-shadow(0px 1px 2px rgba(0, 0, 0, 0.3));\n",
              "      fill: #FFFFFF;\n",
              "    }\n",
              "  </style>\n",
              "\n",
              "      <script>\n",
              "        const buttonEl =\n",
              "          document.querySelector('#df-d6801265-7147-49e3-ae36-b0c8310c37f5 button.colab-df-convert');\n",
              "        buttonEl.style.display =\n",
              "          google.colab.kernel.accessAllowed ? 'block' : 'none';\n",
              "\n",
              "        async function convertToInteractive(key) {\n",
              "          const element = document.querySelector('#df-d6801265-7147-49e3-ae36-b0c8310c37f5');\n",
              "          const dataTable =\n",
              "            await google.colab.kernel.invokeFunction('convertToInteractive',\n",
              "                                                     [key], {});\n",
              "          if (!dataTable) return;\n",
              "\n",
              "          const docLinkHtml = 'Like what you see? Visit the ' +\n",
              "            '<a target=\"_blank\" href=https://colab.research.google.com/notebooks/data_table.ipynb>data table notebook</a>'\n",
              "            + ' to learn more about interactive tables.';\n",
              "          element.innerHTML = '';\n",
              "          dataTable['output_type'] = 'display_data';\n",
              "          await google.colab.output.renderOutput(dataTable, element);\n",
              "          const docLink = document.createElement('div');\n",
              "          docLink.innerHTML = docLinkHtml;\n",
              "          element.appendChild(docLink);\n",
              "        }\n",
              "      </script>\n",
              "    </div>\n",
              "  </div>\n",
              "  "
            ]
          },
          "metadata": {},
          "execution_count": 10
        }
      ],
      "source": [
        "df.head()"
      ]
    },
    {
      "cell_type": "code",
      "execution_count": null,
      "metadata": {
        "colab": {
          "base_uri": "https://localhost:8080/",
          "height": 238
        },
        "id": "2JCG7Ldhp5c2",
        "outputId": "1dab38f8-f737-480c-e3a7-47bb7448e183"
      },
      "outputs": [
        {
          "output_type": "execute_result",
          "data": {
            "text/plain": [
              "                    state   district              market commodity variety  \\\n",
              "arrival_date                                                                 \n",
              "2020-01-01        Gujarat     Rajkot  Rajkot(Ghee Peeth)     Onion   Onion   \n",
              "2020-01-01         Kerala   Kottayam                Pala     Onion     Big   \n",
              "2020-01-01      Karnataka      Gadag               Gadag     Onion   Other   \n",
              "2020-01-01    Maharashtra     Nashik            Chandvad     Onion     Red   \n",
              "2020-01-01         Punjab  Fatehgarh       Bassi Pathana     Onion   Onion   \n",
              "\n",
              "              min_price  max_price  modal_price  \n",
              "arrival_date                                     \n",
              "2020-01-01         1255       5000       3750.0  \n",
              "2020-01-01         7500       8000       7700.0  \n",
              "2020-01-01          300       1500        600.0  \n",
              "2020-01-01         1000       4516       3800.0  \n",
              "2020-01-01         5000       9000       7000.0  "
            ],
            "text/html": [
              "\n",
              "  <div id=\"df-0d9083c2-5d17-43bc-933f-ea47766b62e7\">\n",
              "    <div class=\"colab-df-container\">\n",
              "      <div>\n",
              "<style scoped>\n",
              "    .dataframe tbody tr th:only-of-type {\n",
              "        vertical-align: middle;\n",
              "    }\n",
              "\n",
              "    .dataframe tbody tr th {\n",
              "        vertical-align: top;\n",
              "    }\n",
              "\n",
              "    .dataframe thead th {\n",
              "        text-align: right;\n",
              "    }\n",
              "</style>\n",
              "<table border=\"1\" class=\"dataframe\">\n",
              "  <thead>\n",
              "    <tr style=\"text-align: right;\">\n",
              "      <th></th>\n",
              "      <th>state</th>\n",
              "      <th>district</th>\n",
              "      <th>market</th>\n",
              "      <th>commodity</th>\n",
              "      <th>variety</th>\n",
              "      <th>min_price</th>\n",
              "      <th>max_price</th>\n",
              "      <th>modal_price</th>\n",
              "    </tr>\n",
              "    <tr>\n",
              "      <th>arrival_date</th>\n",
              "      <th></th>\n",
              "      <th></th>\n",
              "      <th></th>\n",
              "      <th></th>\n",
              "      <th></th>\n",
              "      <th></th>\n",
              "      <th></th>\n",
              "      <th></th>\n",
              "    </tr>\n",
              "  </thead>\n",
              "  <tbody>\n",
              "    <tr>\n",
              "      <th>2020-01-01</th>\n",
              "      <td>Gujarat</td>\n",
              "      <td>Rajkot</td>\n",
              "      <td>Rajkot(Ghee Peeth)</td>\n",
              "      <td>Onion</td>\n",
              "      <td>Onion</td>\n",
              "      <td>1255</td>\n",
              "      <td>5000</td>\n",
              "      <td>3750.0</td>\n",
              "    </tr>\n",
              "    <tr>\n",
              "      <th>2020-01-01</th>\n",
              "      <td>Kerala</td>\n",
              "      <td>Kottayam</td>\n",
              "      <td>Pala</td>\n",
              "      <td>Onion</td>\n",
              "      <td>Big</td>\n",
              "      <td>7500</td>\n",
              "      <td>8000</td>\n",
              "      <td>7700.0</td>\n",
              "    </tr>\n",
              "    <tr>\n",
              "      <th>2020-01-01</th>\n",
              "      <td>Karnataka</td>\n",
              "      <td>Gadag</td>\n",
              "      <td>Gadag</td>\n",
              "      <td>Onion</td>\n",
              "      <td>Other</td>\n",
              "      <td>300</td>\n",
              "      <td>1500</td>\n",
              "      <td>600.0</td>\n",
              "    </tr>\n",
              "    <tr>\n",
              "      <th>2020-01-01</th>\n",
              "      <td>Maharashtra</td>\n",
              "      <td>Nashik</td>\n",
              "      <td>Chandvad</td>\n",
              "      <td>Onion</td>\n",
              "      <td>Red</td>\n",
              "      <td>1000</td>\n",
              "      <td>4516</td>\n",
              "      <td>3800.0</td>\n",
              "    </tr>\n",
              "    <tr>\n",
              "      <th>2020-01-01</th>\n",
              "      <td>Punjab</td>\n",
              "      <td>Fatehgarh</td>\n",
              "      <td>Bassi Pathana</td>\n",
              "      <td>Onion</td>\n",
              "      <td>Onion</td>\n",
              "      <td>5000</td>\n",
              "      <td>9000</td>\n",
              "      <td>7000.0</td>\n",
              "    </tr>\n",
              "  </tbody>\n",
              "</table>\n",
              "</div>\n",
              "      <button class=\"colab-df-convert\" onclick=\"convertToInteractive('df-0d9083c2-5d17-43bc-933f-ea47766b62e7')\"\n",
              "              title=\"Convert this dataframe to an interactive table.\"\n",
              "              style=\"display:none;\">\n",
              "        \n",
              "  <svg xmlns=\"http://www.w3.org/2000/svg\" height=\"24px\"viewBox=\"0 0 24 24\"\n",
              "       width=\"24px\">\n",
              "    <path d=\"M0 0h24v24H0V0z\" fill=\"none\"/>\n",
              "    <path d=\"M18.56 5.44l.94 2.06.94-2.06 2.06-.94-2.06-.94-.94-2.06-.94 2.06-2.06.94zm-11 1L8.5 8.5l.94-2.06 2.06-.94-2.06-.94L8.5 2.5l-.94 2.06-2.06.94zm10 10l.94 2.06.94-2.06 2.06-.94-2.06-.94-.94-2.06-.94 2.06-2.06.94z\"/><path d=\"M17.41 7.96l-1.37-1.37c-.4-.4-.92-.59-1.43-.59-.52 0-1.04.2-1.43.59L10.3 9.45l-7.72 7.72c-.78.78-.78 2.05 0 2.83L4 21.41c.39.39.9.59 1.41.59.51 0 1.02-.2 1.41-.59l7.78-7.78 2.81-2.81c.8-.78.8-2.07 0-2.86zM5.41 20L4 18.59l7.72-7.72 1.47 1.35L5.41 20z\"/>\n",
              "  </svg>\n",
              "      </button>\n",
              "      \n",
              "  <style>\n",
              "    .colab-df-container {\n",
              "      display:flex;\n",
              "      flex-wrap:wrap;\n",
              "      gap: 12px;\n",
              "    }\n",
              "\n",
              "    .colab-df-convert {\n",
              "      background-color: #E8F0FE;\n",
              "      border: none;\n",
              "      border-radius: 50%;\n",
              "      cursor: pointer;\n",
              "      display: none;\n",
              "      fill: #1967D2;\n",
              "      height: 32px;\n",
              "      padding: 0 0 0 0;\n",
              "      width: 32px;\n",
              "    }\n",
              "\n",
              "    .colab-df-convert:hover {\n",
              "      background-color: #E2EBFA;\n",
              "      box-shadow: 0px 1px 2px rgba(60, 64, 67, 0.3), 0px 1px 3px 1px rgba(60, 64, 67, 0.15);\n",
              "      fill: #174EA6;\n",
              "    }\n",
              "\n",
              "    [theme=dark] .colab-df-convert {\n",
              "      background-color: #3B4455;\n",
              "      fill: #D2E3FC;\n",
              "    }\n",
              "\n",
              "    [theme=dark] .colab-df-convert:hover {\n",
              "      background-color: #434B5C;\n",
              "      box-shadow: 0px 1px 3px 1px rgba(0, 0, 0, 0.15);\n",
              "      filter: drop-shadow(0px 1px 2px rgba(0, 0, 0, 0.3));\n",
              "      fill: #FFFFFF;\n",
              "    }\n",
              "  </style>\n",
              "\n",
              "      <script>\n",
              "        const buttonEl =\n",
              "          document.querySelector('#df-0d9083c2-5d17-43bc-933f-ea47766b62e7 button.colab-df-convert');\n",
              "        buttonEl.style.display =\n",
              "          google.colab.kernel.accessAllowed ? 'block' : 'none';\n",
              "\n",
              "        async function convertToInteractive(key) {\n",
              "          const element = document.querySelector('#df-0d9083c2-5d17-43bc-933f-ea47766b62e7');\n",
              "          const dataTable =\n",
              "            await google.colab.kernel.invokeFunction('convertToInteractive',\n",
              "                                                     [key], {});\n",
              "          if (!dataTable) return;\n",
              "\n",
              "          const docLinkHtml = 'Like what you see? Visit the ' +\n",
              "            '<a target=\"_blank\" href=https://colab.research.google.com/notebooks/data_table.ipynb>data table notebook</a>'\n",
              "            + ' to learn more about interactive tables.';\n",
              "          element.innerHTML = '';\n",
              "          dataTable['output_type'] = 'display_data';\n",
              "          await google.colab.output.renderOutput(dataTable, element);\n",
              "          const docLink = document.createElement('div');\n",
              "          docLink.innerHTML = docLinkHtml;\n",
              "          element.appendChild(docLink);\n",
              "        }\n",
              "      </script>\n",
              "    </div>\n",
              "  </div>\n",
              "  "
            ]
          },
          "metadata": {},
          "execution_count": 11
        }
      ],
      "source": [
        "df = df.sort_values(by = \"arrival_date\")\n",
        "df.head()"
      ]
    },
    {
      "cell_type": "code",
      "execution_count": null,
      "metadata": {
        "id": "Zoo73N6auBUg"
      },
      "outputs": [],
      "source": [
        "df_clean = df.drop([\"state\", \"district\", \"market\", \"commodity\", \"variety\", \"min_price\", \"max_price\"], axis=1)"
      ]
    },
    {
      "cell_type": "code",
      "execution_count": null,
      "metadata": {
        "colab": {
          "base_uri": "https://localhost:8080/",
          "height": 238
        },
        "id": "PaTdc63Ju-Ax",
        "outputId": "f8bf1405-0d66-44d3-d72d-181ff8cc3ebd"
      },
      "outputs": [
        {
          "output_type": "execute_result",
          "data": {
            "text/plain": [
              "              modal_price\n",
              "arrival_date             \n",
              "2020-01-01         3750.0\n",
              "2020-01-01         7700.0\n",
              "2020-01-01          600.0\n",
              "2020-01-01         3800.0\n",
              "2020-01-01         7000.0"
            ],
            "text/html": [
              "\n",
              "  <div id=\"df-13b513bf-59fd-4867-ab46-860b72ed2ace\">\n",
              "    <div class=\"colab-df-container\">\n",
              "      <div>\n",
              "<style scoped>\n",
              "    .dataframe tbody tr th:only-of-type {\n",
              "        vertical-align: middle;\n",
              "    }\n",
              "\n",
              "    .dataframe tbody tr th {\n",
              "        vertical-align: top;\n",
              "    }\n",
              "\n",
              "    .dataframe thead th {\n",
              "        text-align: right;\n",
              "    }\n",
              "</style>\n",
              "<table border=\"1\" class=\"dataframe\">\n",
              "  <thead>\n",
              "    <tr style=\"text-align: right;\">\n",
              "      <th></th>\n",
              "      <th>modal_price</th>\n",
              "    </tr>\n",
              "    <tr>\n",
              "      <th>arrival_date</th>\n",
              "      <th></th>\n",
              "    </tr>\n",
              "  </thead>\n",
              "  <tbody>\n",
              "    <tr>\n",
              "      <th>2020-01-01</th>\n",
              "      <td>3750.0</td>\n",
              "    </tr>\n",
              "    <tr>\n",
              "      <th>2020-01-01</th>\n",
              "      <td>7700.0</td>\n",
              "    </tr>\n",
              "    <tr>\n",
              "      <th>2020-01-01</th>\n",
              "      <td>600.0</td>\n",
              "    </tr>\n",
              "    <tr>\n",
              "      <th>2020-01-01</th>\n",
              "      <td>3800.0</td>\n",
              "    </tr>\n",
              "    <tr>\n",
              "      <th>2020-01-01</th>\n",
              "      <td>7000.0</td>\n",
              "    </tr>\n",
              "  </tbody>\n",
              "</table>\n",
              "</div>\n",
              "      <button class=\"colab-df-convert\" onclick=\"convertToInteractive('df-13b513bf-59fd-4867-ab46-860b72ed2ace')\"\n",
              "              title=\"Convert this dataframe to an interactive table.\"\n",
              "              style=\"display:none;\">\n",
              "        \n",
              "  <svg xmlns=\"http://www.w3.org/2000/svg\" height=\"24px\"viewBox=\"0 0 24 24\"\n",
              "       width=\"24px\">\n",
              "    <path d=\"M0 0h24v24H0V0z\" fill=\"none\"/>\n",
              "    <path d=\"M18.56 5.44l.94 2.06.94-2.06 2.06-.94-2.06-.94-.94-2.06-.94 2.06-2.06.94zm-11 1L8.5 8.5l.94-2.06 2.06-.94-2.06-.94L8.5 2.5l-.94 2.06-2.06.94zm10 10l.94 2.06.94-2.06 2.06-.94-2.06-.94-.94-2.06-.94 2.06-2.06.94z\"/><path d=\"M17.41 7.96l-1.37-1.37c-.4-.4-.92-.59-1.43-.59-.52 0-1.04.2-1.43.59L10.3 9.45l-7.72 7.72c-.78.78-.78 2.05 0 2.83L4 21.41c.39.39.9.59 1.41.59.51 0 1.02-.2 1.41-.59l7.78-7.78 2.81-2.81c.8-.78.8-2.07 0-2.86zM5.41 20L4 18.59l7.72-7.72 1.47 1.35L5.41 20z\"/>\n",
              "  </svg>\n",
              "      </button>\n",
              "      \n",
              "  <style>\n",
              "    .colab-df-container {\n",
              "      display:flex;\n",
              "      flex-wrap:wrap;\n",
              "      gap: 12px;\n",
              "    }\n",
              "\n",
              "    .colab-df-convert {\n",
              "      background-color: #E8F0FE;\n",
              "      border: none;\n",
              "      border-radius: 50%;\n",
              "      cursor: pointer;\n",
              "      display: none;\n",
              "      fill: #1967D2;\n",
              "      height: 32px;\n",
              "      padding: 0 0 0 0;\n",
              "      width: 32px;\n",
              "    }\n",
              "\n",
              "    .colab-df-convert:hover {\n",
              "      background-color: #E2EBFA;\n",
              "      box-shadow: 0px 1px 2px rgba(60, 64, 67, 0.3), 0px 1px 3px 1px rgba(60, 64, 67, 0.15);\n",
              "      fill: #174EA6;\n",
              "    }\n",
              "\n",
              "    [theme=dark] .colab-df-convert {\n",
              "      background-color: #3B4455;\n",
              "      fill: #D2E3FC;\n",
              "    }\n",
              "\n",
              "    [theme=dark] .colab-df-convert:hover {\n",
              "      background-color: #434B5C;\n",
              "      box-shadow: 0px 1px 3px 1px rgba(0, 0, 0, 0.15);\n",
              "      filter: drop-shadow(0px 1px 2px rgba(0, 0, 0, 0.3));\n",
              "      fill: #FFFFFF;\n",
              "    }\n",
              "  </style>\n",
              "\n",
              "      <script>\n",
              "        const buttonEl =\n",
              "          document.querySelector('#df-13b513bf-59fd-4867-ab46-860b72ed2ace button.colab-df-convert');\n",
              "        buttonEl.style.display =\n",
              "          google.colab.kernel.accessAllowed ? 'block' : 'none';\n",
              "\n",
              "        async function convertToInteractive(key) {\n",
              "          const element = document.querySelector('#df-13b513bf-59fd-4867-ab46-860b72ed2ace');\n",
              "          const dataTable =\n",
              "            await google.colab.kernel.invokeFunction('convertToInteractive',\n",
              "                                                     [key], {});\n",
              "          if (!dataTable) return;\n",
              "\n",
              "          const docLinkHtml = 'Like what you see? Visit the ' +\n",
              "            '<a target=\"_blank\" href=https://colab.research.google.com/notebooks/data_table.ipynb>data table notebook</a>'\n",
              "            + ' to learn more about interactive tables.';\n",
              "          element.innerHTML = '';\n",
              "          dataTable['output_type'] = 'display_data';\n",
              "          await google.colab.output.renderOutput(dataTable, element);\n",
              "          const docLink = document.createElement('div');\n",
              "          docLink.innerHTML = docLinkHtml;\n",
              "          element.appendChild(docLink);\n",
              "        }\n",
              "      </script>\n",
              "    </div>\n",
              "  </div>\n",
              "  "
            ]
          },
          "metadata": {},
          "execution_count": 13
        }
      ],
      "source": [
        "df_clean.head()"
      ]
    },
    {
      "cell_type": "code",
      "execution_count": null,
      "metadata": {
        "colab": {
          "base_uri": "https://localhost:8080/"
        },
        "id": "3Lx0PFkKvC2a",
        "outputId": "7aebbdf0-f9e2-4d9e-aef8-d1642220b313"
      },
      "outputs": [
        {
          "output_type": "stream",
          "name": "stdout",
          "text": [
            "107295\n"
          ]
        }
      ],
      "source": [
        "print(len(df_clean))"
      ]
    },
    {
      "cell_type": "code",
      "execution_count": null,
      "metadata": {
        "colab": {
          "base_uri": "https://localhost:8080/",
          "height": 297
        },
        "id": "fnwxeaa8vMSB",
        "outputId": "b4bdbdc6-633a-4419-cee5-ac189e3a24de"
      },
      "outputs": [
        {
          "output_type": "display_data",
          "data": {
            "text/plain": [
              "<Figure size 432x288 with 4 Axes>"
            ],
            "image/png": "[encoded data removed]"
          },
          "metadata": {
            "needs_background": "light"
          }
        }
      ],
      "source": [
        "import matplotlib.pyplot as plt\n",
        "from statsmodels.tsa.seasonal import  seasonal_decompose\n",
        "\n",
        "decompose_result = seasonal_decompose(df_clean[\"modal_price\"], \n",
        "                                      model=\"multiplicative\", period=1)\n",
        "decompose_result.plot()\n",
        "plt.show()"
      ]
    },
    {
      "cell_type": "code",
      "execution_count": null,
      "metadata": {
        "id": "LsDvq_E3xMWq"
      },
      "outputs": [],
      "source": [
        "from sklearn.model_selection import train_test_split\n",
        "\n",
        "modal_price = df_clean[\"modal_price\"].values\n",
        "modal_price_train, modal_price_test = train_test_split(modal_price, test_size=0.2, shuffle=32, random_state=32 )"
      ]
    },
    {
      "cell_type": "code",
      "execution_count": null,
      "metadata": {
        "id": "6RnAwpsFC5q1"
      },
      "outputs": [],
      "source": [
        "def windowed_dataset(series, window_size, batch_size, shuffle_buffer):\n",
        "  series = tf.expand_dims(series, axis=1)\n",
        "  ds = tf.data.Dataset.from_tensor_slices(series)\n",
        "  ds = ds.window(window_size + 1, shift=1, drop_remainder=True)\n",
        "  ds = ds.flat_map(lambda w: w.batch(window_size +1))\n",
        "  ds = ds.shuffle(shuffle_buffer)\n",
        "  ds = ds.map(lambda w: (w[:-1], w[-1:]))\n",
        "  return ds.batch(batch_size).prefetch(1)"
      ]
    },
    {
      "cell_type": "code",
      "execution_count": null,
      "metadata": {
        "id": "u13npKQSEEyM"
      },
      "outputs": [],
      "source": [
        "import tensorflow as tf\n",
        "\n",
        "train_set = windowed_dataset(modal_price_train, window_size=60, batch_size=100, shuffle_buffer=1000)\n",
        "test_set = windowed_dataset(modal_price_test, window_size=60, batch_size=100, shuffle_buffer=1000)\n",
        "model = tf.keras.models.Sequential([\n",
        "    tf.keras.layers.LSTM(60, return_sequences=True),\n",
        "    tf.keras.layers.LSTM(120),\n",
        "    tf.keras.layers.Dense(60, activation=\"relu\"),\n",
        "    tf.keras.layers.Dense(60, activation=\"relu\"),\n",
        "    tf.keras.layers.Dense(120, activation=\"relu\"),\n",
        "    tf.keras.layers.Dense(1)\n",
        "])"
      ]
    },
    {
      "cell_type": "code",
      "execution_count": null,
      "metadata": {
        "colab": {
          "base_uri": "https://localhost:8080/"
        },
        "id": "R1NpcfRTFia1",
        "outputId": "9766094e-cbfb-47b7-9924-9e38b2646a09"
      },
      "outputs": [
        {
          "output_type": "stream",
          "name": "stderr",
          "text": [
            "/usr/local/lib/python3.7/dist-packages/keras/optimizer_v2/gradient_descent.py:102: UserWarning: The `lr` argument is deprecated, use `learning_rate` instead.\n",
            "  super(SGD, self).__init__(name, **kwargs)\n"
          ]
        }
      ],
      "source": [
        "optimizer = tf.keras.optimizers.SGD(lr=1.0000e-04, momentum=0.9)\n",
        "model.compile(loss=tf.keras.losses.Huber(),\n",
        "              optimizer=optimizer,\n",
        "              metrics=[\"mae\"])"
      ]
    },
    {
      "cell_type": "code",
      "execution_count": null,
      "metadata": {
        "colab": {
          "base_uri": "https://localhost:8080/",
          "height": 238
        },
        "id": "Pu1YIhWTQ1SO",
        "outputId": "32b02c16-83bb-4939-ee03-aabb5ef6a2b9"
      },
      "outputs": [
        {
          "output_type": "execute_result",
          "data": {
            "text/plain": [
              "              modal_price\n",
              "arrival_date             \n",
              "2020-01-01         3750.0\n",
              "2020-01-01         7700.0\n",
              "2020-01-01          600.0\n",
              "2020-01-01         3800.0\n",
              "2020-01-01         7000.0"
            ],
            "text/html": [
              "\n",
              "  <div id=\"df-c694ba01-313e-45ad-9303-10058e584006\">\n",
              "    <div class=\"colab-df-container\">\n",
              "      <div>\n",
              "<style scoped>\n",
              "    .dataframe tbody tr th:only-of-type {\n",
              "        vertical-align: middle;\n",
              "    }\n",
              "\n",
              "    .dataframe tbody tr th {\n",
              "        vertical-align: top;\n",
              "    }\n",
              "\n",
              "    .dataframe thead th {\n",
              "        text-align: right;\n",
              "    }\n",
              "</style>\n",
              "<table border=\"1\" class=\"dataframe\">\n",
              "  <thead>\n",
              "    <tr style=\"text-align: right;\">\n",
              "      <th></th>\n",
              "      <th>modal_price</th>\n",
              "    </tr>\n",
              "    <tr>\n",
              "      <th>arrival_date</th>\n",
              "      <th></th>\n",
              "    </tr>\n",
              "  </thead>\n",
              "  <tbody>\n",
              "    <tr>\n",
              "      <th>2020-01-01</th>\n",
              "      <td>3750.0</td>\n",
              "    </tr>\n",
              "    <tr>\n",
              "      <th>2020-01-01</th>\n",
              "      <td>7700.0</td>\n",
              "    </tr>\n",
              "    <tr>\n",
              "      <th>2020-01-01</th>\n",
              "      <td>600.0</td>\n",
              "    </tr>\n",
              "    <tr>\n",
              "      <th>2020-01-01</th>\n",
              "      <td>3800.0</td>\n",
              "    </tr>\n",
              "    <tr>\n",
              "      <th>2020-01-01</th>\n",
              "      <td>7000.0</td>\n",
              "    </tr>\n",
              "  </tbody>\n",
              "</table>\n",
              "</div>\n",
              "      <button class=\"colab-df-convert\" onclick=\"convertToInteractive('df-c694ba01-313e-45ad-9303-10058e584006')\"\n",
              "              title=\"Convert this dataframe to an interactive table.\"\n",
              "              style=\"display:none;\">\n",
              "        \n",
              "  <svg xmlns=\"http://www.w3.org/2000/svg\" height=\"24px\"viewBox=\"0 0 24 24\"\n",
              "       width=\"24px\">\n",
              "    <path d=\"M0 0h24v24H0V0z\" fill=\"none\"/>\n",
              "    <path d=\"M18.56 5.44l.94 2.06.94-2.06 2.06-.94-2.06-.94-.94-2.06-.94 2.06-2.06.94zm-11 1L8.5 8.5l.94-2.06 2.06-.94-2.06-.94L8.5 2.5l-.94 2.06-2.06.94zm10 10l.94 2.06.94-2.06 2.06-.94-2.06-.94-.94-2.06-.94 2.06-2.06.94z\"/><path d=\"M17.41 7.96l-1.37-1.37c-.4-.4-.92-.59-1.43-.59-.52 0-1.04.2-1.43.59L10.3 9.45l-7.72 7.72c-.78.78-.78 2.05 0 2.83L4 21.41c.39.39.9.59 1.41.59.51 0 1.02-.2 1.41-.59l7.78-7.78 2.81-2.81c.8-.78.8-2.07 0-2.86zM5.41 20L4 18.59l7.72-7.72 1.47 1.35L5.41 20z\"/>\n",
              "  </svg>\n",
              "      </button>\n",
              "      \n",
              "  <style>\n",
              "    .colab-df-container {\n",
              "      display:flex;\n",
              "      flex-wrap:wrap;\n",
              "      gap: 12px;\n",
              "    }\n",
              "\n",
              "    .colab-df-convert {\n",
              "      background-color: #E8F0FE;\n",
              "      border: none;\n",
              "      border-radius: 50%;\n",
              "      cursor: pointer;\n",
              "      display: none;\n",
              "      fill: #1967D2;\n",
              "      height: 32px;\n",
              "      padding: 0 0 0 0;\n",
              "      width: 32px;\n",
              "    }\n",
              "\n",
              "    .colab-df-convert:hover {\n",
              "      background-color: #E2EBFA;\n",
              "      box-shadow: 0px 1px 2px rgba(60, 64, 67, 0.3), 0px 1px 3px 1px rgba(60, 64, 67, 0.15);\n",
              "      fill: #174EA6;\n",
              "    }\n",
              "\n",
              "    [theme=dark] .colab-df-convert {\n",
              "      background-color: #3B4455;\n",
              "      fill: #D2E3FC;\n",
              "    }\n",
              "\n",
              "    [theme=dark] .colab-df-convert:hover {\n",
              "      background-color: #434B5C;\n",
              "      box-shadow: 0px 1px 3px 1px rgba(0, 0, 0, 0.15);\n",
              "      filter: drop-shadow(0px 1px 2px rgba(0, 0, 0, 0.3));\n",
              "      fill: #FFFFFF;\n",
              "    }\n",
              "  </style>\n",
              "\n",
              "      <script>\n",
              "        const buttonEl =\n",
              "          document.querySelector('#df-c694ba01-313e-45ad-9303-10058e584006 button.colab-df-convert');\n",
              "        buttonEl.style.display =\n",
              "          google.colab.kernel.accessAllowed ? 'block' : 'none';\n",
              "\n",
              "        async function convertToInteractive(key) {\n",
              "          const element = document.querySelector('#df-c694ba01-313e-45ad-9303-10058e584006');\n",
              "          const dataTable =\n",
              "            await google.colab.kernel.invokeFunction('convertToInteractive',\n",
              "                                                     [key], {});\n",
              "          if (!dataTable) return;\n",
              "\n",
              "          const docLinkHtml = 'Like what you see? Visit the ' +\n",
              "            '<a target=\"_blank\" href=https://colab.research.google.com/notebooks/data_table.ipynb>data table notebook</a>'\n",
              "            + ' to learn more about interactive tables.';\n",
              "          element.innerHTML = '';\n",
              "          dataTable['output_type'] = 'display_data';\n",
              "          await google.colab.output.renderOutput(dataTable, element);\n",
              "          const docLink = document.createElement('div');\n",
              "          docLink.innerHTML = docLinkHtml;\n",
              "          element.appendChild(docLink);\n",
              "        }\n",
              "      </script>\n",
              "    </div>\n",
              "  </div>\n",
              "  "
            ]
          },
          "metadata": {},
          "execution_count": 26
        }
      ],
      "source": [
        "df_clean.head()"
      ]
    },
    {
      "cell_type": "code",
      "execution_count": null,
      "metadata": {
        "id": "yBqJ1_GeRwwm"
      },
      "outputs": [],
      "source": [
        "minMae = (df_clean['modal_price'].max() - df_clean['modal_price'].min()) * 10/100"
      ]
    },
    {
      "cell_type": "code",
      "execution_count": null,
      "metadata": {
        "colab": {
          "base_uri": "https://localhost:8080/"
        },
        "id": "NKT3eUSlSdQ_",
        "outputId": "5c859926-cd67-448f-f819-4f2b248c19e2"
      },
      "outputs": [
        {
          "output_type": "stream",
          "name": "stdout",
          "text": [
            "2198.0\n"
          ]
        }
      ],
      "source": [
        "print(minMae)"
      ]
    },
    {
      "cell_type": "code",
      "execution_count": null,
      "metadata": {
        "id": "MOdL1T7BGDeO"
      },
      "outputs": [],
      "source": [
        "class myCallback(tf.keras.callbacks.Callback):\n",
        "  def on_epoch_end(self, epoch, logs={}):\n",
        "    if(logs.get(\"mae\") < minMae ):\n",
        "      print(\"\\nmae lebih rendah dari skala data\")\n",
        "      self.model.stop_training = True\n",
        "callbacks = myCallback()"
      ]
    },
    {
      "cell_type": "code",
      "execution_count": null,
      "metadata": {
        "colab": {
          "base_uri": "https://localhost:8080/"
        },
        "id": "snO22JnVIeLA",
        "outputId": "bb496a14-f47d-4caf-8156-16008371dd71"
      },
      "outputs": [
        {
          "output_type": "stream",
          "name": "stdout",
          "text": [
            "Epoch 1/10\n",
            "    858/Unknown - 191s 217ms/step - loss: 986.1959 - mae: 986.6962\n",
            "mae lebih rendah dari skala data\n",
            "858/858 [==============================] - 209s 239ms/step - loss: 986.1959 - mae: 986.6962 - val_loss: 978.7104 - val_mae: 979.2012\n"
          ]
        }
      ],
      "source": [
        "history = model.fit(train_set, epochs=10, validation_data=(test_set), callbacks=[callbacks])"
      ]
    },
    {
      "cell_type": "code",
      "execution_count": null,
      "metadata": {
        "colab": {
          "base_uri": "https://localhost:8080/"
        },
        "id": "CXgWFXW3VY32",
        "outputId": "0d2d8802-d982-4f63-a8b7-baefcafd4567"
      },
      "outputs": [
        {
          "output_type": "execute_result",
          "data": {
            "text/plain": [
              "[986.6962280273438]"
            ]
          },
          "metadata": {},
          "execution_count": 33
        }
      ],
      "source": [
        "history.history[\"mae\"]"
      ]
    },
    {
      "cell_type": "code",
      "execution_count": null,
      "metadata": {
        "id": "4CMNcbIuqff8",
        "colab": {
          "base_uri": "https://localhost:8080/",
          "height": 546
        },
        "outputId": "069b62d5-42f0-4642-8c86-9bf89010e31d"
      },
      "outputs": [
        {
          "output_type": "display_data",
          "data": {
            "text/plain": [
              "<Figure size 432x288 with 1 Axes>"
            ],
            "image/png": "[encoded data removed]"
          },
          "metadata": {
            "needs_background": "light"
          }
        },
        {
          "output_type": "display_data",
          "data": {
            "text/plain": [
              "<Figure size 432x288 with 1 Axes>"
            ],
            "image/png": "[encoded data removed]"
          },
          "metadata": {
            "needs_background": "light"
          }
        }
      ],
      "source": [
        "plt.bar(x=\"mae\" , height=history.history[\"mae\"], )\n",
        "plt.bar(x=\"loss\", height=history.history[\"loss\"])\n",
        "plt.title(\"mae\")\n",
        "plt.show()\n",
        "\n",
        "plt.bar(x=\"val_mae\" , height=history.history[\"val_mae\"], )\n",
        "plt.bar(x=\"Val_loss\", height=history.history[\"val_loss\"])\n",
        "plt.title(\"mae\")\n",
        "plt.show()"
      ]
    },
    {
      "cell_type": "code",
      "source": [
        "save_path = \"/content/myModel\"\n",
        "tf.saved_model.save(model, save_path)"
      ],
      "metadata": {
        "colab": {
          "base_uri": "https://localhost:8080/"
        },
        "id": "6lnl8PGjQWnI",
        "outputId": "9fd81405-1dac-43b4-920a-67225c15f256"
      },
      "execution_count": null,
      "outputs": [
        {
          "output_type": "stream",
          "name": "stderr",
          "text": [
            "WARNING:absl:Found untraced functions such as lstm_cell_layer_call_fn, lstm_cell_layer_call_and_return_conditional_losses, lstm_cell_1_layer_call_fn, lstm_cell_1_layer_call_and_return_conditional_losses while saving (showing 4 of 4). These functions will not be directly callable after loading.\n"
          ]
        }
      ]
    }
  ],
  "metadata": {
    "colab": {
      "collapsed_sections": [],
      "provenance": [],
      "authorship_tag": "ABX9TyO1kucqE1OHkrciCmZwvBYR",
      "include_colab_link": true
    },
    "kernelspec": {
      "display_name": "Python 3",
      "name": "python3"
    },
    "language_info": {
      "name": "python"
    }
  },
  "nbformat": 4,
  "nbformat_minor": 0
}